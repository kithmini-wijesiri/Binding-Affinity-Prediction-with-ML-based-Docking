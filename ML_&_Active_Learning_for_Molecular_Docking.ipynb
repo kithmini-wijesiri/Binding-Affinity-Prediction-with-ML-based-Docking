{
  "cells": [
    {
      "cell_type": "markdown",
      "metadata": {
        "id": "view-in-github",
        "colab_type": "text"
      },
      "source": [
        "<a href=\"https://colab.research.google.com/github/kithmini-wijesiri/Binding-Affinity-Prediction-with-ML-based-Docking/blob/main/ML_%26_Active_Learning_for_Molecular_Docking.ipynb\" target=\"_parent\"><img src=\"https://colab.research.google.com/assets/colab-badge.svg\" alt=\"Open In Colab\"/></a>"
      ]
    },
    {
      "cell_type": "markdown",
      "metadata": {
        "id": "LHHWmJBfROMf"
      },
      "source": [
        "\n",
        "## Molecular docking to predict the binding pose and affinity of small molecules in a protein binding site\n",
        "\n",
        "\n",
        "The epidermal growth factor receptor \\(EGFR\\) will be used as our target system \\([6VHN](https://www.rcsb.org/structure/6VHN)\\).\n",
        "The protein encoded by this gene is a transmembrane glycoprotein that is a member of the protein kinase superfamily.\n",
        " are going to try to predict the binding affinity of some molecules to this protein to the ATP binding site in the hinge region\n",
        "\n",
        "EGFR is a frequently over-expressed and aberrantly activated trans-membrane protein in non-small cell lung cancer (NSCLC) patients, described for the first time in 2004. Mutations in this gene are associated with lung cancer in particular.\n",
        "\n",
        "The goal of this project is twofold:\n",
        "- First, design a molecular docking workflow using the classical docking software Autodock Vina.\n",
        "- Second, build an active learning / Bayesian optimization cycle to find high binding affinity candidates from a molecular screening library while minimizing the number of evaluations of the \\(somewhat expensive\\) Docking oracle.\n",
        "\n",
        "Such pipelines could be used in the hit\\-to\\-lead phase of the drug\\-discovery process or to reduce the size of the screening library to be tested.\n",
        "\n",
        "These active learning pipelines can be used in other phase of the drug\\-discovery pipelines like lead-optimization or to select the best candidates for experimental/wet lab validation.\n",
        "\n",
        "<img src=\"https://drive.google.com/uc?export=view&id=1uIhRXkYFBMFB6i6XImHfXAa35gYEx7YL\" width=\"500\"/>\n",
        "\n",
        "Fig. : Rendering (VMD) of EGFR (6VHN) in complex with inhibitor.\n"
      ]
    },
    {
      "cell_type": "markdown",
      "metadata": {
        "id": "Oou0kXQVROMg"
      },
      "source": [
        "### Molecular docking\n",
        "\n",
        "In the modern drug discovery pipeline, determining the binding mode and binding affinity of an active molecule to a given protein target is very important. With the advent of on\\-demand synthesis libraries such as [Enamine Real](https://enamine.net/compound-collections/real-compounds/real-database), the design space of possible ligands extends to billions of theoretically synthesizable molecules. Molecular docking can probe and \\(de\\)prioritize these molecules before they are even synthesized, thus, accelerate the discovery of novel lead candidates.\n",
        "\n",
        "Molecular docking software can be used to predict binding modes and affinities by sampling possible conformations of a ligand inside the protein binding pocket \\(Fig. 1\\). To this end, the sampling of conformations aims to optimize a Docking score function, which is assumed to increase  After the optimal pose has been found, which is typically calculated from a variety of terms for different non\\-covalent molecular interactions; e.g. electrostatics and van der Waals energies.\n",
        "\n",
        "<img src=\"https://drive.google.com/uc?export=view&id=1kakPkA9wf8XzkidYXRx16zYD3qubjf4h\" width=\"500\"/>\n",
        "\n",
        "**Fig. 1:** EGFR in complex with inhibitor\n",
        "\n"
      ]
    },
    {
      "cell_type": "markdown",
      "metadata": {
        "id": "DveC0Ha0ROMh"
      },
      "source": [
        "### Background: Binding free energy\n",
        "\n",
        "We are interested in finding drug compounds that strongly bind to a target protein.\n",
        "Hence, in the equilibrium reaction between protein $P$ and ligand $L$\n",
        "\\begin{equation}\n",
        " P + L \t\\rightleftharpoons PL\\ ,\n",
        "\\end{equation}\n",
        "we are interested in a large ratio of protein-ligand complexes over protein and ligand individually.\n",
        "\n",
        "<img src=\"https://drive.google.com/uc?export=view&id=1-D-GcRNUrmLKlVsSv40O5NXHtxyBrNj2\" width=\"500\"/>\n",
        "\n",
        "**Fig. 2:** Protein-ligand binding equilibrium reaction\n",
        "\n",
        "This ratio is proportional to the binding constant $K_b^0$, which on the other hand, is proportional to the Gibbs free energy of binding\n",
        "\\begin{equation}\n",
        " \\Delta G^0_\\mathrm{bind} = -k_B T \\ln K_b^0 \\ ,\n",
        "\\end{equation}\n",
        "where $k_B$ is the Boltzmann constant and $T$ is the temperature. Hence, we are interested in predicting $ \\Delta G^0_\\mathrm{bind}$ in-silico. While $ \\Delta G^0_\\mathrm{bind}$ can be computed physically rigorous via MD simulations, this is too computationally expensive for large-scale screenings in the hit-to-lead phase. To this end, we can use Docking, providing a less accurate estimate of $ \\Delta G^0_\\mathrm{bind}$ using significantly less compute in order to (de-)prioritize compounds.\n",
        "\n"
      ]
    },
    {
      "cell_type": "markdown",
      "metadata": {
        "id": "v83w4QceROMh"
      },
      "source": [
        "### Docking score\n",
        "\n",
        "An empirical mathematical function used to __proxy__ the binding free energy of a protein-ligand complex. Used to rank ligands in a virtual screening by considering\n",
        "the inter- & intra molecular interactions and other physical properties (H-bonds, hydrophobic interactions, etc.) to define a scalar value.\n",
        "\n",
        "The docking score c in [AutoDock Vina](https://onlinelibrary.wiley.com/doi/10.1002/jcc.21334) is built of pairwise physics\\-inspired functions f\n",
        "\\begin{equation}\n",
        "c = \\sum_{i<j} f_{t_it_j}(r_{ij}) \\ ,\n",
        "\\end{equation}\n",
        "where $t_i$ is the atom type and $r_{ij}$ is the pairwise distance between atoms $i$ and $j$.\n",
        "The Docking score consists of both intra and inter\\-molecular interactions\n",
        "\\begin{equation}\n",
        "c =c_\\mathrm{inter} + c_\\mathrm{intra} \\ ,\n",
        "\\end{equation}\n",
        "but only the inter\\-molecular component is used to predict the binding free energy:\n",
        "\\begin{equation}\n",
        " \\Delta G^0_\\mathrm{bind} \\approx g(c_\\mathrm{inter}) = \\frac{c_\\mathrm{inter}}{1+w N_\\mathrm{rot}} \\ ,\n",
        "\\end{equation}\n",
        "where $N_\\mathrm{rot}$ is the number of rotable bonds of the ligand and $w$ is a weight parameter.\n",
        "The parameters of $c$ are optimized based on the PDBBind database.\n",
        "\n"
      ]
    },
    {
      "cell_type": "markdown",
      "metadata": {
        "id": "8IKonL82ROMh"
      },
      "source": [
        "### Sampling algorithms\n",
        "\n",
        "To sample the conformations of ligands inside a protein binding pocket, classical Docking algorithms employ sampling algorithms such as the following:\n",
        "\n",
        "* **Matching algorithms:** Compare the shape similarity of ligand conformations and the protein binding pocket, usually also including chemical information, e.g. hydrogen bond acceptors and donors. However, these programs require a prior computation of ligand conformations that are used during shape comparison.This will fail if the biologically relevant conformation is not present in this library.\n",
        "\n",
        "* In the **incremental instruction** method, the ligand is first deconstructed into smaller fragments by breaking its rotatable bonds. One of the fragments, for example the biggest one, is placed first into the binding pocket. Subsequently, the complete ligand is incrementally constructed inside the binding pocket by connecting the remaining fragments at the appropriate positions of the core fragment.\n",
        "\n",
        "* **Monte Carlo methods** sample ligand conformations by rigid\\-body rotation and translation as well as bond rotation. They generate random placements and evaluate obtained conformations inside the protein binding pocket with the pose score function. If the pose is accepted, the conformation is saved and subsequently randomly modified to generate another conformations.\n",
        "\n",
        "* **Genetic algorithms**\n",
        "\n",
        "Vina uses a genetic algorithm for global search and optimizes local minima using the BFGS quasi-Newton optimizer.\n",
        "\n"
      ]
    },
    {
      "cell_type": "markdown",
      "metadata": {
        "id": "-lQCvDyIROMh"
      },
      "source": [
        "A **molecular docking** workflow usually involves the following steps \\(Fig. 3\\):\n",
        "\n",
        "- Input file preparation, e.g. protonation and conversion into specific file formats\n",
        "- Conformational sampling of the ligand inside the binding pocket via classical optimization of the docking score\n",
        "- Scoring of the generated docking poses via and docking score $c$ and prediction of $\\Delta G$ via $g(c_\\mathrm{inter})$\n",
        "- Post\\-processing, e.g. visualization of the docking pose\n",
        "\n",
        "<img src=\"https://drive.google.com/uc?export=view&id=1-otcUrfJkfkJVZgsxvKb85EFHIJMdquP\" width=\"500\"/>\n",
        "\n",
        "__Fig. 3:__ Molecular docking workflow\n",
        "\n"
      ]
    },
    {
      "cell_type": "markdown",
      "metadata": {
        "id": "JdESgAvSROMh"
      },
      "source": [
        "## Implementation\n",
        "\n",
        "The implementation consists of 2 parts.\n",
        "\n",
        " First, we will prepare the Protein and compound database for Docking and deomonstrate Docking of a single compound.\n",
        " Second part, we will use this pipeline to dock batches of compounds and actively learn a Gaussian Process surrogate model of the docking score for efficient screening.\n",
        "\n",
        "### Input preparation\n",
        "\n",
        "In this workshop we will consider the simplest case of rigid docking with a known binding site. The information of the binding site will be provided by the crystallized ligand in the PDB entry.\n",
        "\n",
        "In real case scenario, the binding site can be unknown, in this case the research of the binding site can be done through various techniques or be achieved through blind docking. Recently, ML methods \\(i.e. DiffDock\\) have shown great potential in this task.\n",
        "\n"
      ]
    },
    {
      "cell_type": "markdown",
      "metadata": {
        "id": "1REEuGKjROMi"
      },
      "source": [
        "### Limitations\n",
        "\n",
        "* Docking programs can consider some residue sidechains flexible during docking calculations to account for binding pocket flexibility. However, the dynamic, adaptive nature of the protein\\-ligand binding and the contribution of the conformational entropy of the protein is insufficiently considered by protein\\-ligand docking. This can result in false positives: Even if the ligand finds a suitable pose in the binding pocket, this position is not guaranteed until the protein is allowed to explore near\\-minima conformations. Hence, short molecular dynamics \\(MD\\) simulations are recommended to evaluate the stability of the predicted binding pose.\n",
        "\n",
        "* Scoring functions used by docking programs must be cheap to compute. While the accuracy is good enough to distinguish good poses from bad poses, it can have problems sorting the best poses. For example, while most popular docking programs are able to find the experimental pose in their calculations, this pose is rarely the best one of the proposed set. Furthermore, several retrospective studies have shown that docking scores often poorly correlate with binding affinity.\n",
        "\n",
        "* While blind docking is possible, in order to reduce computational cost, docking is often only performed on a subset of the protein \\(typically around a known binding pocket\\). Choosing the correct binding site is a challenge, if the binding pocket is not known a priori.\n",
        "\n",
        "* To maximize the accuracy of the calculation, the ligand and protein structures must be prepared appropriately. Protonation states of amino acids and the ligands can be tricky to get right, especially in the case of \\(potential\\) tautomers. This introduces yet another cause to obtain inaccurate results.\n",
        "\n",
        "Due to these limitations, Docking predictions tend to be not very accurate with a mean absolute error of 2.85 kcal/mol on PDBBind  [\\(Vina\\)](https://onlinelibrary.wiley.com/doi/10.1002/jcc.21334).\n",
        "\n",
        "<img src=\"https://drive.google.com/uc?export=view&id=1OP8tn0xzPOI4w6a_x_mm8DWBCV_rELNo\" width=\"500\"/>"
      ]
    },
    {
      "cell_type": "markdown",
      "metadata": {
        "id": "h82mw3bUROMi"
      },
      "source": [
        "### Preparing a pdb\n",
        "\n",
        "For the docking, the pdb file of the protein and the ligand needs to be prepared.\n",
        "Protein preparation workflow:\n",
        "\n",
        "- Removed the ligand from the pdb file\n",
        "- Deleted all the water molecules/solvent from the pdb file\n",
        "- Converted residues to standard residues  \n",
        "- Completed sydechains\n",
        "- Added hydrogens to the protein to the correct protonation state (ph 7.4)\n",
        "- Added charges to the protein (Gasteiger model)\n",
        "- Changed names of the residues to AMBER ff14Sb names"
      ]
    },
    {
      "cell_type": "markdown",
      "metadata": {
        "id": "tigSoHKVROMi"
      },
      "source": [
        "## Discussion\n",
        "\n",
        "Classical docking software relies on hand\\-crafted, physics\\-inspired functional forms as well as classical optimization routines to find docking poses and predict binding affinity. Several ML directions aim to improve on this:\n",
        "\n",
        "- DiffDock trains a diffusion model to predict the binding pose to improve the accuracy of the pose and aims to speed\\-up the prediction by avoiding the optimization scheme.\n",
        "- Several ML models learn scoring functions using the PDBBind database to improve the accuracy of the binding affinity prediction.\n",
        "- AlphaFold3 co\\-folds the protein with the ligand within the binding site, reducing the need of high\\-quality protein holo crystal structure, which is assumed to be known by Docking approaches.\n",
        "\n",
        "The efficiency of the active learning loop could be improved via more sophisticated batch active learning approaches or by building more sophisticated surrogate models.\n",
        "\n",
        "#### Physically rigorous approaches using MD\n",
        "\n",
        "- Short outlook to free energy simulations\n",
        "- Connection to neural network potentials\n",
        "\n",
        "#### Improving the active learning loop\n",
        "\n",
        "The active learning loop and model we used could be improved in several ways:\n",
        "\n",
        "1. ##### Binding Affinity Prediction:\n",
        "    \n",
        "We used a simple gaussian process with a RBF kernel trained on fingerprints to predict the binding affinity.\n",
        "More sophisticated models could be used to improve the prediction accuracy.\n",
        "\n",
        "Binding Affinity is a complex property that depends on the protein-ligand interaction,\n",
        "\n",
        "the solvation energy,\n",
        "the entropy of the system, and the enthalpy of the system and our model\n",
        "is not even taking in consideration the protein structure.\n",
        "    \n",
        "Using some 3D descriptors like Smooth Overlaps of Atomistic Position or Atomic Cluster Expansion could improve the prediction.\n",
        "\n",
        "2. ##### Active Learning:\n",
        "    \n",
        "We used a quite simple uncertainty estimation (max Uncertainty), but we can use more sophisticated acquisition functions to guide the optimization process.\n",
        "In this way we can balance our efforts of exploration and exploitation.\n",
        "\n",
        "Some of the more commons acquisition functions are:\n",
        "\n",
        "- ##### Expected Improvement (EI)\n",
        "\n",
        "<center><<img src=\"https://drive.google.com/uc?export=view&id=19K-CvdpTPRvcG_-DE8Xsy7st3Otg1eK3\" width=\"1200\"/>/></center>\n",
        "\n",
        "$$ PI(x) = \\psi\\Big( \\frac{\\mu(x) - f(x^+) - \\xi}{\\sigma(x)} \\Big),$$\n",
        "\n",
        "- ##### Probability of Improvement (PI)\n",
        "\n",
        "<center><<img src=\"https://drive.google.com/uc?export=view&id=1Bk4obCSSvvchudiLHrSUC-y2mi0ul05M\" width=\"1200\"/>/></center>\n",
        "\n",
        "$$ \\begin{split}\\begin{align*}\n",
        "EI(x) = & (\\mu(x) - f(x^+) - \\xi) \\psi\\Big( \\frac{\\mu(x) - f(x^+) - \\xi}{\\sigma(x)} \\Big) \\\\\n",
        "& + \\sigma(x) \\phi\\Big( \\frac{\\mu(x) - f(x^+) - \\xi}{\\sigma(x)} \\Big),\n",
        "\\end{align*}\\end{split} $$\n",
        "\n",
        "- ##### Upper Confidence Bound (UCB)\n",
        "\n",
        "<center><<img src=\"https://drive.google.com/uc?export=view&id=1sJ3Sgxf7uQ_DXBI6xJwNqEWQAKJv9DWX\" width=\"1200\"/>/></center>\n",
        "\n",
        "\n",
        "$$ UCB(x) = \\mu(x) + \\beta \\sigma(x), $$\n"
      ]
    }
  ],
  "metadata": {
    "language_info": {
      "name": "python"
    },
    "colab": {
      "provenance": [],
      "include_colab_link": true
    },
    "kernelspec": {
      "name": "python3",
      "display_name": "Python 3"
    }
  },
  "nbformat": 4,
  "nbformat_minor": 0
}