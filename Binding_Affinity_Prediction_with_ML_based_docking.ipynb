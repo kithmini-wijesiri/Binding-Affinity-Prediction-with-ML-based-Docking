{
  "cells": [
    {
      "cell_type": "markdown",
      "metadata": {
        "id": "2qYVCW9CyPy6"
      },
      "source": [
        "# Binding Affinity Prediction with ML-Based Docking\n",
        "\n",
        "Download the data and create the environment"
      ]
    },
    {
      "cell_type": "code",
      "source": [
        "import os\n",
        "os.makedirs(\"data\", exist_ok=True)\n",
        "os.makedirs(\"figures\", exist_ok=True)"
      ],
      "metadata": {
        "id": "-GyVWoR3HVIO"
      },
      "execution_count": null,
      "outputs": []
    },
    {
      "cell_type": "code",
      "execution_count": null,
      "metadata": {
        "id": "2DB4N4IqNBRi"
      },
      "outputs": [],
      "source": [
        "!pip install -q condacolab\n",
        "import condacolab\n",
        "condacolab.install() # kernel will die and restart. This is expected."
      ]
    },
    {
      "cell_type": "code",
      "execution_count": null,
      "metadata": {
        "id": "YYfwj4QRNXPB"
      },
      "outputs": [],
      "source": [
        "import condacolab\n",
        "condacolab.check()"
      ]
    },
    {
      "cell_type": "code",
      "execution_count": null,
      "metadata": {
        "id": "c1kHGWgSNXsA"
      },
      "outputs": [],
      "source": [
        "# Updating the base environment, this will take a bit (~2min)\n",
        "!mamba env update -n base -f env.yml"
      ]
    },
    {
      "cell_type": "code",
      "execution_count": null,
      "metadata": {
        "id": "ztSZInESTifH"
      },
      "outputs": [],
      "source": [
        "!pip install py3Dmol #For rendering"
      ]
    },
    {
      "cell_type": "code",
      "execution_count": null,
      "metadata": {
        "id": "lPYCBVHBPD86"
      },
      "outputs": [],
      "source": [
        "from google.colab import output\n",
        "output.enable_custom_widget_manager() # for output rendering\n"
      ]
    },
    {
      "cell_type": "markdown",
      "metadata": {
        "id": "vLm6RfqMyPy9"
      },
      "source": [
        "## Implementation\n",
        "1) prepare the Protein and compound database for Docking and _deomonstrate Docking of a single compound_.\n",
        "\n",
        "2) use this pipeline to dock batches of compounds and _actively learn a Gaussian Process_ surrogate model of the docking score for efficient screening.\n",
        "\n",
        "### Input preparation\n",
        "\n",
        "Here we consider a case of rigid docking with a known binding site. The information of the binding site will be provided by the crystallized ligand in the PDB entry.\n",
        "\n",
        "In a real case scenario, if the binding site is unknown, the research of the binding site can be done through various techniques or be achieved through blind docking. Recently, ML methods \\(e.g. DiffDock\\) have shown great potential in this task.\n",
        "\n"
      ]
    },
    {
      "cell_type": "code",
      "execution_count": null,
      "metadata": {
        "id": "3Hp4WYMiMuU3"
      },
      "outputs": [],
      "source": [
        "import mdtraj\n",
        "import numpy as np\n",
        "import os\n",
        "from utils import *\n",
        "\n",
        "\n",
        "os.makedirs(\"sdf_inputs\", exist_ok=True)\n",
        "os.makedirs(\"smina_inputs\", exist_ok=True)\n",
        "\n"
      ]
    },
    {
      "cell_type": "code",
      "execution_count": null,
      "metadata": {
        "id": "SXG88_fUMuU4"
      },
      "outputs": [],
      "source": [
        "traj = mdtraj.load(\"6vhn.pdb\")\n",
        "\n",
        "def get_protein_ligand_idxs(traj ,resname=None):\n",
        "    protein = traj.top.select(\"protein\")\n",
        "    resname = \"not protein\" if not resname else resname\n",
        "    ligand = traj.top.select(resname)\n",
        "    return protein, ligand\n",
        "\n",
        "def save_trimmed_pdb(path, traj, idxs):\n",
        "    traj.atom_slice(idxs).save_pdb(path)\n",
        "\n",
        "\n",
        "receptor, ligand = get_protein_ligand_idxs(traj, \"not protein and not water\")\n",
        "\n",
        "save_trimmed_pdb(\"ligand.pdb\", traj,ligand)\n",
        "#save_trimmed_pdb(\"receptor.pdb\", traj,receptor)\n",
        "\n"
      ]
    },
    {
      "cell_type": "markdown",
      "metadata": {
        "id": "2fyBF8CFyPy9"
      },
      "source": [
        "### Preparing a pdb\n",
        "\n",
        "For the docking, we need to prepare a pdb file of the protein and the ligand.\n",
        "The protein pdb can be prepared  by performing the following steps:\n",
        "\n",
        "- Removed the ligand from the pdb file\n",
        "- Deleted all the water molecules/solvent from the pdb file\n",
        "- Converted residues to standard residues  \n",
        "- Completed sidechains\n",
        "- Added hydrogens to the protein to the correct protonation state (ph 7.4)\n",
        "- Added charges to the protein (Gasteiger model)\n",
        "- Changed names of the residues to AMBER ff14Sb names\n",
        "\n",
        "Multiple programs can be used to complete this steps, e.g. med-chem programs including Maestro, Chimera, etc. or python libraries such as openmm and pbdfixer"
      ]
    },
    {
      "cell_type": "code",
      "execution_count": null,
      "metadata": {
        "id": "V38Re8v3StU-"
      },
      "outputs": [],
      "source": [
        "import py3Dmol\n",
        "# First we assign the py3Dmol.view as view\n",
        "view=py3Dmol.view()\n",
        "# The following lines are used to add the addModel class\n",
        "# to read the PDB files of chain B and C\n",
        "view.addModel(open('6vhn_prepared.pdb', 'r').read(),'pdb')\n",
        "view.addModel(open('6vhn.pdb', 'r').read(),'pdb')\n",
        "# Zooming into all visualized structures\n",
        "view.zoomTo()\n",
        "# Here we set the background color as white and set the cartoon style\n",
        "view.setBackgroundColor('white')\n",
        "view.setStyle({'model': -1}, {\"cartoon\": {'color': 'spectrum'}})\n",
        "# And we finally visualize the structures using the command below\n",
        "view.show()"
      ]
    },
    {
      "cell_type": "code",
      "execution_count": null,
      "metadata": {
        "id": "gs35lalNMuU4"
      },
      "outputs": [],
      "source": [
        "def read_pdb_with_ob(file):\n",
        "    \"\"\"Read a molecule file with open babel\n",
        "\n",
        "    Args:\n",
        "        file (Union[str os.PathLike]): pdb input file\n",
        "\n",
        "    Returns:\n",
        "        mols (list): list of molecules found in the input file\n",
        "    \"\"\"\n",
        "\n",
        "    try:\n",
        "        from openbabel import pybel\n",
        "    except ImportError:\n",
        "        raise ImportError(\"Pybel is required for reading openbabel molecules\")\n",
        "    mols = [m for m in pybel.readfile(format=\"pdb\",filename=file)]\n",
        "    return mols\n",
        "\n",
        "def prepare_ob_mols(ligand, outpath, overwrite=False):\n",
        "    from openbabel import pybel\n",
        "    out = pybel.Outputfile(format=\"pdbqt\" , filename=outpath,  overwrite=overwrite)\n",
        "    ligand.addh()\n",
        "    if not ligand.OBMol.HasNonZeroCoords():\n",
        "        ligand.make3D()\n",
        "    ligand.calccharges(model=\"gasteiger\")\n",
        "    out.write(ligand)\n",
        "    out.close()\n",
        "\n",
        "ligand_mol= read_pdb_with_ob(\"ligand.pdb\")\n"
      ]
    },
    {
      "cell_type": "code",
      "execution_count": null,
      "metadata": {
        "id": "dj8XV53oMuU5"
      },
      "outputs": [],
      "source": [
        "ligand_mol[0]"
      ]
    },
    {
      "cell_type": "code",
      "execution_count": null,
      "metadata": {
        "id": "8kgxyVtRMuU5"
      },
      "outputs": [],
      "source": [
        "prepare_ob_mols(ligand_mol[0], \"smina_inputs/ligand.pdbqt\", overwrite=True)"
      ]
    },
    {
      "cell_type": "code",
      "execution_count": null,
      "metadata": {
        "id": "IWaKMEAzMuU5"
      },
      "outputs": [],
      "source": [
        "prep=Preprocessor()\n",
        "prep.prepare_receptor(\"6vhn_prepared.pdb\", \"smina_inputs/receptor.pdbqt\")\n",
        "#prep.prepare_ligand(\"data/ligand.pdb\", \"smina_inputs/ligand.pdbqt\", in_format=\"pdb\")"
      ]
    },
    {
      "cell_type": "markdown",
      "source": [
        "## Binding box creation\n"
      ],
      "metadata": {
        "id": "7GBrlkD09qzq"
      }
    },
    {
      "cell_type": "code",
      "execution_count": null,
      "metadata": {
        "id": "mozRc5DFMuU5"
      },
      "outputs": [],
      "source": [
        "ligand=mdtraj.load(\"ligand.pdb\")\n",
        "def create_box_from_ligand(ligand):\n",
        "    xyz=ligand.xyz[0] * 10  # convert to Angstrom from nm\n",
        "    pocket_center = (xyz.max(axis=0) + xyz.min(axis=0)) / 2\n",
        "    pocket_size = xyz.max(axis=0) - xyz.min(axis=0) + 5\n",
        "    return Box.from_array(pocket_center, pocket_size)\n",
        "\n",
        "box=create_box_from_ligand(ligand)\n",
        "box"
      ]
    },
    {
      "cell_type": "code",
      "execution_count": null,
      "metadata": {
        "id": "a7V00C0_MuU6"
      },
      "outputs": [],
      "source": [
        "from utils import Docking\n",
        "\n",
        "docker=Docking(\"smina_inputs/receptor.pdbqt\", box)"
      ]
    },
    {
      "cell_type": "code",
      "execution_count": null,
      "metadata": {
        "id": "h4NiJoLGMuU6"
      },
      "outputs": [],
      "source": [
        "os.makedirs(\"outputs\", exist_ok=True)\n",
        "text=docker.dock_one(\"smina_inputs/ligand.pdbqt\", \"outputs/ligand_out.sdf\")\n",
        "docker.parse_output(text)"
      ]
    },
    {
      "cell_type": "code",
      "execution_count": null,
      "metadata": {
        "id": "F0-LSU2DU3O7"
      },
      "outputs": [],
      "source": [
        "view = py3Dmol.view()\n",
        "view.addModel(open('6vhn_prepared.pdb', 'r').read())\n",
        "view.setStyle({'model': -1}, {\"cartoon\": {'color': 'spectrum'}})\n",
        "view.addModel(open('outputs/ligand_out.sdf', 'r').read())\n",
        "view.setStyle({'model': -1}, {\"stick\" :  {'color': \"yellow\"}})\n",
        "view.zoomTo()\n",
        "view.show()"
      ]
    },
    {
      "cell_type": "code",
      "execution_count": null,
      "metadata": {
        "id": "gUJGYjarMuU6"
      },
      "outputs": [],
      "source": [
        "poses=dm.read_sdf(\"outputs/ligand_out.sdf\", as_df=True, mol_column=\"mols\", n_jobs=-1)\n",
        "poses"
      ]
    },
    {
      "cell_type": "code",
      "execution_count": null,
      "metadata": {
        "id": "GdS2hg4iMuU6"
      },
      "outputs": [],
      "source": [
        "dm.viz.to_image(poses[\"mols\"])"
      ]
    },
    {
      "cell_type": "markdown",
      "source": [
        "### Using molecules from the Enamine Hinge Binders Library"
      ],
      "metadata": {
        "id": "8Qy1TJZNsddw"
      }
    },
    {
      "cell_type": "code",
      "execution_count": null,
      "metadata": {
        "id": "2dA4w_gfMuU6"
      },
      "outputs": [],
      "source": [
        "import datamol as dm\n",
        "df_mols = dm.read_sdf(\"Enamine_Hinge_Binders_Library_plated_24000cmds_20210316 (1).sdf\", as_df=True, mol_column=\"mols\", n_jobs=-1)\n",
        "docker.parse_mol_to_pbdqt(df_mols[\"mols\"][0]) # write mol as pdbqt\n",
        "\n"
      ]
    },
    {
      "cell_type": "code",
      "execution_count": null,
      "metadata": {
        "id": "QhcTk_quMuU6"
      },
      "outputs": [],
      "source": [
        "text=docker.dock_one(\"smina_inputs/mol_0.pdbqt\", \"outputs/poses_0.sdf\")\n",
        "docker.parse_output(text)\n",
        "poses=dm.read_sdf(\"outputs/poses_0.sdf\", as_df=True, mol_column=\"mols\", n_jobs=-1)\n",
        "poses"
      ]
    },
    {
      "cell_type": "code",
      "execution_count": null,
      "metadata": {
        "id": "ugidGC-FMuU6"
      },
      "outputs": [],
      "source": [
        "dm.viz.to_image(poses[\"mols\"])"
      ]
    },
    {
      "cell_type": "code",
      "execution_count": null,
      "metadata": {
        "id": "YVlFD6uyMuU6"
      },
      "outputs": [],
      "source": [
        "df_mols.head()"
      ]
    },
    {
      "cell_type": "code",
      "execution_count": null,
      "metadata": {
        "id": "kBl5b642bW4S"
      },
      "outputs": [],
      "source": [
        "df_mols[\"fp\"]=df_mols[\"mols\"].apply(lambda x : dm.to_fp(x))\n",
        "df_mols"
      ]
    },
    {
      "cell_type": "code",
      "execution_count": null,
      "metadata": {
        "id": "XWxY9aM2MuU6"
      },
      "outputs": [],
      "source": [
        "docker=Docking(\"smina_inputs/receptor.pdbqt\", box)"
      ]
    },
    {
      "cell_type": "code",
      "execution_count": null,
      "metadata": {
        "id": "ASb8dxeYMuU6"
      },
      "outputs": [],
      "source": [
        "docker.dock_multiple_mols(\n",
        "        df_mols[\"mols\"].tolist()[:5], list(range(5))\n",
        ")"
      ]
    },
    {
      "cell_type": "code",
      "execution_count": null,
      "metadata": {
        "id": "eV9WX3AVMuU6"
      },
      "outputs": [],
      "source": [
        "poses = dm.read_sdf(\"smina_outputs/poses.sdf\", as_df=True, mol_column=\"mols\", n_jobs=-1, sanitize=False)\n",
        "poses.sort_values(\"minimizedAffinity\",inplace=True)\n",
        "poses"
      ]
    },
    {
      "cell_type": "code",
      "execution_count": null,
      "metadata": {
        "id": "43DVaiO8MuU7"
      },
      "outputs": [],
      "source": [
        "dm.viz.to_image(poses[\"mols\"].tolist()[:10])"
      ]
    },
    {
      "cell_type": "code",
      "execution_count": null,
      "metadata": {
        "id": "CU705YRmAlSW"
      },
      "outputs": [],
      "source": [
        "from ipywidgets import interact, Dropdown\n",
        "\n",
        "def view_mol(molecule):\n",
        "  view = py3Dmol.view(\n",
        "      data=Chem.MolToMolBlock(molecule),\n",
        "      #style={\"sphere\": {\"scale\" : 0.3}}\n",
        "  )\n",
        "  view.setStyle({\"stick\" : {}})\n",
        "  view.addStyle({\"sphere\": {\"scale\" : 0.21}})\n",
        "  view.zoomTo()\n",
        "  return view.show()\n",
        "\n",
        "mols=poses[\"mols\"].tolist()\n",
        "affs=poses[\"minimizedAffinity\"].tolist()\n",
        "smiles=poses[\"smiles\"].tolist()\n",
        "\n",
        "dropdown = Dropdown(\n",
        "    options=[(f\"{smile}:{aff} kcal/mol\",mol) for aff,smile,mol in zip(affs,smiles,mols)],\n",
        "    value = mols[0], description=\"Selection\"\n",
        ")\n",
        "interact(\n",
        "    view_mol,\n",
        "    molecule=dropdown\n",
        ")"
      ]
    },
    {
      "cell_type": "code",
      "execution_count": null,
      "metadata": {
        "id": "qrdu80kYWr90"
      },
      "outputs": [],
      "source": [
        "def create_py3d_model(sdf_file):\n",
        "  molecules=dm.read_sdf(sdf_file, remove_hs=False)\n",
        "  view = py3Dmol.view()\n",
        "  view.addModel(open('6vhn_prepared.pdb', 'r').read())\n",
        "  view.setStyle({'model': -1}, {\"cartoon\": {'color': 'spectrum'}})\n",
        "  for mol in molecules:\n",
        "    view.addModel(Chem.MolToMolBlock(mol,confId=0), \"sdf\")\n",
        "    view.setStyle({'model': -1}, {\"stick\" :  {}})\n",
        "  view.zoomTo()\n",
        "  return view\n",
        "\n",
        "view=create_py3d_model(\"smina_outputs/poses.sdf\")\n",
        "view.show()"
      ]
    },
    {
      "cell_type": "markdown",
      "source": [
        "## Active Learning\n",
        "\n",
        "To train ML models in a supervised manner we need:\n",
        "\n",
        "- Labeled data\n",
        "- A model\n",
        "\n",
        "In the drug-discovery pipeline, data and their labels tend to be scarce. Hence, structure-based drug discovery is often conducted in low-data regime as **generating new data is expensive** and time consuming.\n",
        "\n",
        "To tacke this problem, **active learning** is often used to choose the next samples to expensively annotate to learn better models.\n",
        "\n",
        "In this paradigm, the model actively selects the data that it will learn from. Instead of feeding it a predefined set of training data, the model has the ability to choose the most informative samples for its training, resulting in a more efficient and effective learning process.\n",
        "\n",
        "An **active learning** workflow usually involves the following components \\(Fig. 4\\):\n",
        "\n",
        "- A ML surrogate **model**\n",
        "- An **oracle** function to label unlabeled datapoints\n",
        "- An **objective** function to select the new samples to be labeled (maximizing the uncertainty, maximizing some score, or other, more complex functions)\n",
        "\n",
        "<img src=\"http://drive.google.com/uc?export=view&id=1FMDzm7pOt238ByYJwhiSHQkoqsA1EKqb\" alt=\"drawing\" width=\"500\"/>\n",
        "\n",
        "__Fig. 4:__ Generic active learning workflow\n"
      ],
      "metadata": {
        "id": "-nFvWI9jdFWh"
      }
    },
    {
      "cell_type": "markdown",
      "source": [
        "\n",
        "Here we will construct a simple active learning loop to make the most out of a given budget of function calls to the (_somewhat_) expensive docking program _SMINA_.\n",
        "\n",
        "In the previous parts, we constructed the *oracle* function that will label the molecules. To complete the *active learning workflow*, we need a *model* and an *objective* function.\n",
        "\n",
        "- Model: We will use a simple Gaussian Process on ecfp fingerprints\n",
        "- Objective function: We will maximize the uncertainty of the GP on the binding free energy prediction\n",
        "\n"
      ],
      "metadata": {
        "id": "ZU2W1oMIi7bh"
      }
    },
    {
      "cell_type": "code",
      "execution_count": null,
      "metadata": {
        "id": "9r4ZhXK3MuU7"
      },
      "outputs": [],
      "source": [
        "def get_random_idxs(df, n=10, seed=42):\n",
        "    # Select molecules to create AL seed dataset\n",
        "    np.random.seed(seed)\n",
        "    return np.random.randint(0, len(df), n)\n",
        "\n",
        "\n",
        "df = init_df_fields(df_mols)\n",
        "df.head()"
      ]
    },
    {
      "cell_type": "code",
      "execution_count": null,
      "metadata": {
        "id": "1JhrCOhRMuU7"
      },
      "outputs": [],
      "source": [
        "from sklearn.gaussian_process.kernels import RBF\n",
        "\n",
        "def train_gp(df) -> GaussianProcessRegressor:\n",
        "    # retrieve for all labeled molecules the fingerprints and affinity labels\n",
        "    X = np.vstack(df[\"fp\"][df[\"sampled\"]>=1].tolist())\n",
        "    Y = np.vstack(df[\"true_affinity\"][df[\"sampled\"]>=1].tolist())\n",
        "    # fit GP\n",
        "    return GaussianProcessRegressor(kernel=RBF(length_scale=2.0,\n",
        "                                               length_scale_bounds=(1e-1, 20.0)),\n",
        "                                     random_state=0).fit(X,Y)\n",
        "\n",
        "def predict_with_gp(df, gp):\n",
        "    X = np.vstack(df[\"fp\"].tolist())\n",
        "    mean, std = gp.predict(X, return_std=True)\n",
        "    df[\"pred_affinity\"] = mean\n",
        "    df[\"uncertainty\"] = std\n",
        "    return df\n",
        "\n",
        "def samples_next(df, n: int = 10, sort_by_uncertainty = True) -> List[int]:\n",
        "    original_df = df\n",
        "    if sort_by_uncertainty:\n",
        "        # largest uncertainty on top (aquisition function)\n",
        "        ascending=False\n",
        "        name=\"uncertainty\"\n",
        "    else:\n",
        "        # best binders on top (most negative binding free energy)\n",
        "        ascending=True\n",
        "        name=\"pred_affinity\"\n",
        "    return df.sort_values(name, ascending=ascending)[\"idxs\"].tolist()[:n]\n",
        "\n"
      ]
    },
    {
      "cell_type": "code",
      "execution_count": null,
      "metadata": {
        "id": "BbpVhjFYfap6"
      },
      "outputs": [],
      "source": [
        "def get_results(output_dir, idxs):\n",
        "    # retrieve binding affinity of optimal conformer for all labeled molecules\n",
        "    values = []\n",
        "    key = \"minimizedAffinity\"\n",
        "    for idx in idxs:\n",
        "        poses = dm.read_sdf(os.path.join(output_dir, f\"poses_{idx}.sdf\"),\n",
        "                            as_df=True, mol_column=\"mols\", n_jobs=-1,\n",
        "                            sanitize=False)\n",
        "        poses = poses.sort_values(\"minimizedAffinity\",inplace=False)\n",
        "        values.append(poses[\"minimizedAffinity\"][0])\n",
        "    return values\n",
        "\n",
        "def format_df(df, affinities, sampled_idxs, iteration):\n",
        "    # save label from oracle\n",
        "    df[\"true_affinity\"][sampled_idxs] = affinities\n",
        "    df[\"sampled\"][sampled_idxs] = iteration\n",
        "    return df\n"
      ]
    },
    {
      "cell_type": "code",
      "execution_count": null,
      "metadata": {
        "id": "XmPSvzh7MuU7"
      },
      "outputs": [],
      "source": [
        "from copy import deepcopy\n",
        "\n",
        "N_OF_AL_ITERATIONS = 5\n",
        "FIRST_LOOP=True  # get random idxs at the first loop\n",
        "N_OF_ORACLE_CALLS=3  # AL batch size\n",
        "SELECT_BY_UNCERTAINTY=True\n",
        "SEED = 42\n",
        "\n",
        "docker=Docking(\"smina_inputs/receptor.pdbqt\", box, num_poses=3)\n",
        "\n",
        "ultimate_df = deepcopy(df)\n",
        "for iteration in range(N_OF_AL_ITERATIONS):\n",
        "    if FIRST_LOOP:\n",
        "        FIRST_LOOP = False\n",
        "        sampled_idxs= get_random_idxs(ultimate_df, n=N_OF_ORACLE_CALLS,\n",
        "                                      seed=SEED).tolist()\n",
        "\n",
        "    print(f\"Selected idxs: {sampled_idxs}\")\n",
        "\n",
        "    # Create iteration directory\n",
        "    output_dir = f\"al_loop_{iteration}\"\n",
        "    os.makedirs(output_dir,exist_ok=True)\n",
        "\n",
        "    # Select molecules to dock and dock them\n",
        "    # (really slow on colab)\n",
        "    mols_to_dock=ultimate_df[\"mols\"].to_numpy()[sampled_idxs]\n",
        "    docker.dock_multiple_mols(mols_to_dock, sampled_idxs, output_dir)\n",
        "\n",
        "    # Get and store results\n",
        "    affinities = get_results(output_dir, sampled_idxs)\n",
        "    print(f\"Obtained affinities in AL interation {iteration}: {affinities}\")\n",
        "    ultimate_df = format_df(ultimate_df, affinities, sampled_idxs, iteration+1)\n",
        "\n",
        "    # re-train and use surrogate model\n",
        "    GP = train_gp(ultimate_df)\n",
        "    ultimate_df = predict_with_gp(ultimate_df, GP)\n",
        "    sampled_idxs = samples_next(ultimate_df, N_OF_ORACLE_CALLS, SELECT_BY_UNCERTAINTY)\n",
        "\n",
        "\n"
      ]
    }
  ],
  "metadata": {
    "colab": {
      "private_outputs": true,
      "provenance": []
    },
    "kernelspec": {
      "display_name": "Python 3 (ipykernel)",
      "language": "python",
      "name": "python3"
    },
    "language_info": {
      "codemirror_mode": {
        "name": "ipython",
        "version": 3
      },
      "file_extension": ".py",
      "mimetype": "text/x-python",
      "name": "python",
      "nbconvert_exporter": "python",
      "pygments_lexer": "ipython3",
      "version": "3.12.3"
    }
  },
  "nbformat": 4,
  "nbformat_minor": 0
}